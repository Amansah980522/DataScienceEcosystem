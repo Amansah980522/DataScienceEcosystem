{
 "cells": [
  {
   "cell_type": "markdown",
   "id": "00023618-a643-44fa-802d-468b835715c4",
   "metadata": {},
   "source": [
    "# Data science and Ecosystem Using H1 Style heading"
   ]
  },
  {
   "cell_type": "markdown",
   "id": "bf434439-bf16-4e79-b15e-9844dc2d6212",
   "metadata": {},
   "source": [
    "In This Notebook, Data Science Tools and Ecosystem are Summarized :\n",
    "   \n",
    "   A data ecosystem is a complex environment of co-dependent networks and actors that contribute to data collection, transfer, and use.A data ecosystem is essentially a platform that combines data from numerous providers and builds value through the usage of processed data\n"
   ]
  },
  {
   "cell_type": "markdown",
   "id": "61f77f9d-210b-4783-8a1d-40a15e504b4f",
   "metadata": {},
   "source": [
    "Some of The popular languages that Data Scientists use are:\n",
    "1. Python\n",
    "2. Java\n",
    "3. R\n",
    "4. SQL"
   ]
  },
  {
   "cell_type": "markdown",
   "id": "5747f69b-90be-4a05-9d67-255e488a56e4",
   "metadata": {},
   "source": [
    "Some Of the Commonly used libraries used by Data Scientists include:\n",
    "1. Padas\n",
    "2. Numpy\n",
    "3. Keras\n",
    "4. Scikit-learn\n",
    "5. Matplotlib\n",
    "6. Seaborn"
   ]
  },
  {
   "cell_type": "markdown",
   "id": "4ed90c2b-f86c-4134-a748-d57e11b6708a",
   "metadata": {},
   "source": [
    "# Data Science Tools in Table\n",
    "\n",
    "|  Data Science Tool |\n",
    "| --------------|\n",
    "|jupyter Notebook|\n",
    "| R-Studio |\n",
    "| Pycharm|\n",
    "|Python|\n",
    "| Visual Studio|\n",
    "\n"
   ]
  },
  {
   "cell_type": "markdown",
   "id": "7b4a679a-7c33-4490-a3c6-b09b84a9479f",
   "metadata": {},
   "source": [
    "### Below are Few examples of evaluating arithmetic Expression in Python.\n",
    "- (3*4)+5\n",
    "- 3+3\n",
    "- 1-5"
   ]
  },
  {
   "cell_type": "code",
   "execution_count": 4,
   "id": "a8efab2c-278a-4449-98e6-cc427d7b4d39",
   "metadata": {},
   "outputs": [
    {
     "data": {
      "text/plain": [
       "17"
      ]
     },
     "execution_count": 4,
     "metadata": {},
     "output_type": "execute_result"
    }
   ],
   "source": [
    "# This is simple arithmetic expression to multiply then add integers\n",
    "(3*4)+5"
   ]
  },
  {
   "cell_type": "code",
   "execution_count": 11,
   "id": "eb123d55-e700-4768-9731-dc808b6b0158",
   "metadata": {},
   "outputs": [
    {
     "name": "stdout",
     "output_type": "stream",
     "text": [
      "Total Duration in 200 minutes is 3 hrs 20 minutues\n"
     ]
    }
   ],
   "source": [
    "# This will convert 200 minutes to hours by dividing by 60\n",
    "min=200\n",
    "hrs=int(min/60)\n",
    "min= min%60\n",
    "print(\"Total Duration in 200 minutes is\",hrs,\"hrs\",min,\"minutues\")"
   ]
  },
  {
   "cell_type": "markdown",
   "id": "77a6bd2b-ecfe-4ec8-909a-577af9849dcf",
   "metadata": {},
   "source": [
    "# **Objectives:**\n",
    "\n",
    "- Introduction of Data Science and ecosystem \n",
    "- List of Popular languages for data science\n",
    "- List of Data science libraries\n",
    "- Introducing Arithmetic expression\n"
   ]
  },
  {
   "cell_type": "markdown",
   "id": "04e6b08e-2378-424b-9e96-3d6f55e3de4a",
   "metadata": {},
   "source": [
    "## Author \n",
    "Aman Sah"
   ]
  }
 ],
 "metadata": {
  "kernelspec": {
   "display_name": "Python 3 (ipykernel)",
   "language": "python",
   "name": "python3"
  },
  "language_info": {
   "codemirror_mode": {
    "name": "ipython",
    "version": 3
   },
   "file_extension": ".py",
   "mimetype": "text/x-python",
   "name": "python",
   "nbconvert_exporter": "python",
   "pygments_lexer": "ipython3",
   "version": "3.12.2"
  }
 },
 "nbformat": 4,
 "nbformat_minor": 5
}
